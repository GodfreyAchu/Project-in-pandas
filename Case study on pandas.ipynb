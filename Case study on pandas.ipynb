{
  "nbformat": 4,
  "nbformat_minor": 0,
  "metadata": {
    "colab": {
      "name": "Untitled4.ipynb",
      "provenance": [],
      "collapsed_sections": [],
      "authorship_tag": "ABX9TyP4sPgKXy8Pccy6HS+2QiQn",
      "include_colab_link": true
    },
    "kernelspec": {
      "name": "python3",
      "display_name": "Python 3"
    },
    "language_info": {
      "name": "python"
    }
  },
  "cells": [
    {
      "cell_type": "markdown",
      "metadata": {
        "id": "view-in-github",
        "colab_type": "text"
      },
      "source": [
        "<a href=\"https://colab.research.google.com/github/GodfreyAchu/Project-in-pandas/blob/main/Case%20study%20on%20pandas.ipynb\" target=\"_parent\"><img src=\"https://colab.research.google.com/assets/colab-badge.svg\" alt=\"Open In Colab\"/></a>"
      ]
    },
    {
      "cell_type": "markdown",
      "source": [
        "Case study on data base managment with the help of pandas and doing different operation with numpy."
      ],
      "metadata": {
        "id": "joQBqhWZI77K"
      }
    },
    {
      "cell_type": "code",
      "source": [
        "import pandas as pd\n",
        "import numpy as np"
      ],
      "metadata": {
        "id": "DbWzwJkYJUUY"
      },
      "execution_count": null,
      "outputs": []
    },
    {
      "cell_type": "code",
      "source": [
        "print(\"Mark of Ashwanth\")\n",
        "marks=[90,82,73,94,100]\n",
        "sub_name=['Maths','Science','Computer','Social','English']\n",
        "ind=pd.Series(marks,index=sub_name)\n",
        "dt=pd.DataFrame(\n",
        "    {\n",
        "        \"Subjects\":pd.Series(sub_name),\n",
        "        \"Marks\":pd.Series(marks),\n",
        "        \"Grade\":pd.Series(['A','B','C','A','A']),\n",
        "        \"Qualification\":'Pass',\n",
        "        \"Rank\":np.array([1]*5),\n",
        "    }\n",
        ")\n",
        "print(dt)\n"
      ],
      "metadata": {
        "colab": {
          "base_uri": "https://localhost:8080/"
        },
        "id": "hli5pszpKrn3",
        "outputId": "1a772a95-e699-4b81-c331-47aad902bdb5"
      },
      "execution_count": null,
      "outputs": [
        {
          "output_type": "stream",
          "name": "stdout",
          "text": [
            "Mark of Ashwanth\n",
            "  Subjects\\n  Marks Grade Qualification  Rank\n",
            "0      Maths     90     A          Pass     1\n",
            "1    Science     82     B          Pass     1\n",
            "2   Computer     73     C          Pass     1\n",
            "3     Social     94     A          Pass     1\n",
            "4    English    100     A          Pass     1\n"
          ]
        }
      ]
    },
    {
      "cell_type": "markdown",
      "source": [
        "Few operation one the data frame.\n"
      ],
      "metadata": {
        "id": "PKxI6lfORMLg"
      }
    },
    {
      "cell_type": "code",
      "source": [
        "\n",
        "marks=[90,82,73,94,100]\n",
        "sub_name=['Maths','Science','Computer','Social','English']\n",
        "ind=pd.Series(marks,index=sub_name)\n",
        "dt=pd.DataFrame(\n",
        "    {\n",
        "        \"Subjects\":pd.Series(sub_name),\n",
        "        \"Marks\":pd.Series(marks),\n",
        "        \"Grade\":pd.Series(['A','B','C','A','A']),\n",
        "        \"Qualification\":'Pass',\n",
        "        \"Rank\":np.array([1]*5),\n",
        "    }\n",
        ")\n",
        "print(marks)\n",
        "mrk=np.mean(marks)\n",
        "mrk1=np.median(marks)\n",
        "\n",
        "print(\"Mean marks is:\",mrk)\n",
        "print(\"Median mark is:\",mrk1)\n",
        "x=np.percentile(marks, 80, axis=None,interpolation='midpoint')\n",
        "print(\"Percentile function:\",x)\n",
        "y=np.var(marks, axis=None, dtype=None, ddof=0)\n",
        "print(\"Variance function:\",y)\n",
        "z=np.std(marks, axis=None, dtype=None, ddof=0)\n",
        "print(\"Standard deviation:\",z)"
      ],
      "metadata": {
        "colab": {
          "base_uri": "https://localhost:8080/"
        },
        "outputId": "7d402964-ddcc-4d85-cd46-bbd039901680",
        "id": "8pIMGcYkSHJd"
      },
      "execution_count": null,
      "outputs": [
        {
          "output_type": "stream",
          "name": "stdout",
          "text": [
            "[90, 82, 73, 94, 100]\n",
            "Mean marks is: 87.8\n",
            "Median mark is: 90.0\n",
            "Percentile function: 97.0\n",
            "Variance function: 88.96\n",
            "Standard deviation: 9.431860898041277\n"
          ]
        }
      ]
    },
    {
      "cell_type": "code",
      "source": [
        "print(\"Mark of Ashwanth\")\n",
        "marks=[90,82,73,94,100]\n",
        "sub_name=['Maths','Science','Computer','Social','English']\n",
        "ind=pd.Series(marks,index=sub_name)\n",
        "dt=pd.DataFrame(\n",
        "    {\n",
        "        \"Subjects\":pd.Series(sub_name),\n",
        "        \"Marks\":pd.Series(marks),\n",
        "        \"Grade\":pd.Series(['A','B','C','A','A']),\n",
        "        \"Qualification\":'Pass',\n",
        "        \"Rank\":np.array([1]*5),\n",
        "    }\n",
        ")\n",
        "dt1=pd.DataFrame(\n",
        "    {\n",
        "        \"Remarks\":pd.Categorical([\"Great Job\"]),\n",
        "    }\n",
        ")\n",
        "dtfl=pd.concat([dt,dt1])\n",
        "print(dtfl)"
      ],
      "metadata": {
        "colab": {
          "base_uri": "https://localhost:8080/"
        },
        "outputId": "271df459-9b7b-426d-d18c-4b7ed038b623",
        "id": "GKGdKwyXLkXK"
      },
      "execution_count": null,
      "outputs": [
        {
          "output_type": "stream",
          "name": "stdout",
          "text": [
            "Mark of Ashwanth\n",
            "   Subjects  Marks Grade Qualification  Rank    Remarks\n",
            "0     Maths   90.0     A          Pass   1.0        NaN\n",
            "1   Science   82.0     B          Pass   1.0        NaN\n",
            "2  Computer   73.0     C          Pass   1.0        NaN\n",
            "3    Social   94.0     A          Pass   1.0        NaN\n",
            "4   English  100.0     A          Pass   1.0        NaN\n",
            "0       NaN    NaN   NaN           NaN   NaN  Great Job\n"
          ]
        }
      ]
    }
  ]
}